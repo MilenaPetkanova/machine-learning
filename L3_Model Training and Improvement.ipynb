{
 "cells": [
  {
   "cell_type": "code",
   "execution_count": 83,
   "metadata": {
    "collapsed": false
   },
   "outputs": [],
   "source": [
    "%matplotlib inline\n",
    "import pandas as pd\n",
    "import numpy as np\n",
    "import matplotlib.pyplot as plt\n",
    "import seaborn as sns\n",
    "\n",
    "from sklearn.linear_model import LinearRegression, ElasticNet"
   ]
  },
  {
   "cell_type": "markdown",
   "metadata": {},
   "source": [
    "Linear Regression with Regularization"
   ]
  },
  {
   "cell_type": "code",
   "execution_count": 84,
   "metadata": {
    "collapsed": true
   },
   "outputs": [],
   "source": [
    "housing = pd.read_fwf(\"https://archive.ics.uci.edu/ml/machine-learning-databases/housing/housing.data\", header = None)"
   ]
  },
  {
   "cell_type": "code",
   "execution_count": 85,
   "metadata": {
    "collapsed": false
   },
   "outputs": [
    {
     "data": {
      "text/html": [
       "<div>\n",
       "<table border=\"1\" class=\"dataframe\">\n",
       "  <thead>\n",
       "    <tr style=\"text-align: right;\">\n",
       "      <th></th>\n",
       "      <th>count</th>\n",
       "      <th>mean</th>\n",
       "      <th>std</th>\n",
       "      <th>min</th>\n",
       "      <th>25%</th>\n",
       "      <th>50%</th>\n",
       "      <th>75%</th>\n",
       "      <th>max</th>\n",
       "    </tr>\n",
       "  </thead>\n",
       "  <tbody>\n",
       "    <tr>\n",
       "      <th>0</th>\n",
       "      <td>506.0</td>\n",
       "      <td>1.716290</td>\n",
       "      <td>2.653510</td>\n",
       "      <td>0.00632</td>\n",
       "      <td>0.0819</td>\n",
       "      <td>0.250895</td>\n",
       "      <td>2.326718</td>\n",
       "      <td>9.96654</td>\n",
       "    </tr>\n",
       "    <tr>\n",
       "      <th>1</th>\n",
       "      <td>506.0</td>\n",
       "      <td>11.363636</td>\n",
       "      <td>23.322453</td>\n",
       "      <td>0.00000</td>\n",
       "      <td>0.0000</td>\n",
       "      <td>0.000000</td>\n",
       "      <td>12.500000</td>\n",
       "      <td>100.00000</td>\n",
       "    </tr>\n",
       "    <tr>\n",
       "      <th>2</th>\n",
       "      <td>506.0</td>\n",
       "      <td>11.136779</td>\n",
       "      <td>6.860353</td>\n",
       "      <td>0.46000</td>\n",
       "      <td>5.1900</td>\n",
       "      <td>9.690000</td>\n",
       "      <td>18.100000</td>\n",
       "      <td>27.74000</td>\n",
       "    </tr>\n",
       "    <tr>\n",
       "      <th>3</th>\n",
       "      <td>506.0</td>\n",
       "      <td>0.069170</td>\n",
       "      <td>0.253994</td>\n",
       "      <td>0.00000</td>\n",
       "      <td>0.0000</td>\n",
       "      <td>0.000000</td>\n",
       "      <td>0.000000</td>\n",
       "      <td>1.00000</td>\n",
       "    </tr>\n",
       "    <tr>\n",
       "      <th>4</th>\n",
       "      <td>506.0</td>\n",
       "      <td>0.554695</td>\n",
       "      <td>0.115878</td>\n",
       "      <td>0.38500</td>\n",
       "      <td>0.4490</td>\n",
       "      <td>0.538000</td>\n",
       "      <td>0.624000</td>\n",
       "      <td>0.87100</td>\n",
       "    </tr>\n",
       "    <tr>\n",
       "      <th>5</th>\n",
       "      <td>506.0</td>\n",
       "      <td>6.284634</td>\n",
       "      <td>0.702617</td>\n",
       "      <td>3.56100</td>\n",
       "      <td>5.8855</td>\n",
       "      <td>6.208500</td>\n",
       "      <td>6.623500</td>\n",
       "      <td>8.78000</td>\n",
       "    </tr>\n",
       "    <tr>\n",
       "      <th>6</th>\n",
       "      <td>506.0</td>\n",
       "      <td>68.574901</td>\n",
       "      <td>28.148861</td>\n",
       "      <td>2.90000</td>\n",
       "      <td>45.0250</td>\n",
       "      <td>77.500000</td>\n",
       "      <td>94.075000</td>\n",
       "      <td>100.00000</td>\n",
       "    </tr>\n",
       "    <tr>\n",
       "      <th>7</th>\n",
       "      <td>506.0</td>\n",
       "      <td>3.696228</td>\n",
       "      <td>1.999689</td>\n",
       "      <td>0.58570</td>\n",
       "      <td>2.0737</td>\n",
       "      <td>3.107300</td>\n",
       "      <td>5.112625</td>\n",
       "      <td>9.22290</td>\n",
       "    </tr>\n",
       "    <tr>\n",
       "      <th>8</th>\n",
       "      <td>506.0</td>\n",
       "      <td>4.332016</td>\n",
       "      <td>1.417166</td>\n",
       "      <td>1.00000</td>\n",
       "      <td>4.0000</td>\n",
       "      <td>4.000000</td>\n",
       "      <td>5.000000</td>\n",
       "      <td>8.00000</td>\n",
       "    </tr>\n",
       "    <tr>\n",
       "      <th>9</th>\n",
       "      <td>506.0</td>\n",
       "      <td>408.237154</td>\n",
       "      <td>168.537116</td>\n",
       "      <td>187.00000</td>\n",
       "      <td>279.0000</td>\n",
       "      <td>330.000000</td>\n",
       "      <td>666.000000</td>\n",
       "      <td>711.00000</td>\n",
       "    </tr>\n",
       "    <tr>\n",
       "      <th>10</th>\n",
       "      <td>506.0</td>\n",
       "      <td>18.455534</td>\n",
       "      <td>2.164946</td>\n",
       "      <td>12.60000</td>\n",
       "      <td>17.4000</td>\n",
       "      <td>19.050000</td>\n",
       "      <td>20.200000</td>\n",
       "      <td>22.00000</td>\n",
       "    </tr>\n",
       "    <tr>\n",
       "      <th>11</th>\n",
       "      <td>506.0</td>\n",
       "      <td>356.674032</td>\n",
       "      <td>91.294864</td>\n",
       "      <td>0.32000</td>\n",
       "      <td>375.3775</td>\n",
       "      <td>391.440000</td>\n",
       "      <td>396.225000</td>\n",
       "      <td>396.90000</td>\n",
       "    </tr>\n",
       "    <tr>\n",
       "      <th>12</th>\n",
       "      <td>506.0</td>\n",
       "      <td>12.653063</td>\n",
       "      <td>7.141062</td>\n",
       "      <td>1.73000</td>\n",
       "      <td>6.9500</td>\n",
       "      <td>11.360000</td>\n",
       "      <td>16.955000</td>\n",
       "      <td>37.97000</td>\n",
       "    </tr>\n",
       "    <tr>\n",
       "      <th>13</th>\n",
       "      <td>506.0</td>\n",
       "      <td>22.532806</td>\n",
       "      <td>9.197104</td>\n",
       "      <td>5.00000</td>\n",
       "      <td>17.0250</td>\n",
       "      <td>21.200000</td>\n",
       "      <td>25.000000</td>\n",
       "      <td>50.00000</td>\n",
       "    </tr>\n",
       "  </tbody>\n",
       "</table>\n",
       "</div>"
      ],
      "text/plain": [
       "    count        mean         std        min       25%         50%  \\\n",
       "0   506.0    1.716290    2.653510    0.00632    0.0819    0.250895   \n",
       "1   506.0   11.363636   23.322453    0.00000    0.0000    0.000000   \n",
       "2   506.0   11.136779    6.860353    0.46000    5.1900    9.690000   \n",
       "3   506.0    0.069170    0.253994    0.00000    0.0000    0.000000   \n",
       "4   506.0    0.554695    0.115878    0.38500    0.4490    0.538000   \n",
       "5   506.0    6.284634    0.702617    3.56100    5.8855    6.208500   \n",
       "6   506.0   68.574901   28.148861    2.90000   45.0250   77.500000   \n",
       "7   506.0    3.696228    1.999689    0.58570    2.0737    3.107300   \n",
       "8   506.0    4.332016    1.417166    1.00000    4.0000    4.000000   \n",
       "9   506.0  408.237154  168.537116  187.00000  279.0000  330.000000   \n",
       "10  506.0   18.455534    2.164946   12.60000   17.4000   19.050000   \n",
       "11  506.0  356.674032   91.294864    0.32000  375.3775  391.440000   \n",
       "12  506.0   12.653063    7.141062    1.73000    6.9500   11.360000   \n",
       "13  506.0   22.532806    9.197104    5.00000   17.0250   21.200000   \n",
       "\n",
       "           75%        max  \n",
       "0     2.326718    9.96654  \n",
       "1    12.500000  100.00000  \n",
       "2    18.100000   27.74000  \n",
       "3     0.000000    1.00000  \n",
       "4     0.624000    0.87100  \n",
       "5     6.623500    8.78000  \n",
       "6    94.075000  100.00000  \n",
       "7     5.112625    9.22290  \n",
       "8     5.000000    8.00000  \n",
       "9   666.000000  711.00000  \n",
       "10   20.200000   22.00000  \n",
       "11  396.225000  396.90000  \n",
       "12   16.955000   37.97000  \n",
       "13   25.000000   50.00000  "
      ]
     },
     "execution_count": 85,
     "metadata": {},
     "output_type": "execute_result"
    }
   ],
   "source": [
    "housing.describe().T"
   ]
  },
  {
   "cell_type": "code",
   "execution_count": 40,
   "metadata": {
    "collapsed": true
   },
   "outputs": [],
   "source": [
    "linear = LinearRegression()\n",
    "regularized = ElasticNet(alpha = 10, l1_ratio = 0.5)"
   ]
  },
  {
   "cell_type": "code",
   "execution_count": 105,
   "metadata": {
    "collapsed": false
   },
   "outputs": [
    {
     "name": "stdout",
     "output_type": "stream",
     "text": [
      "[[  1.00000000e+00  -4.62815724e-19  -3.54914249e-17   3.81203733e-16\n",
      "   -9.40070602e-16  -3.57063281e-17  -3.82132371e-17   2.80448711e-16\n",
      "    1.82009161e-16   3.17178575e-17   1.59873801e-16   2.53113960e-17\n",
      "    1.64507679e-17]\n",
      " [  1.69417252e-14   1.00000000e+00  -2.35922393e-15   1.80411242e-14\n",
      "    1.11244347e-13   4.44089210e-16  -2.51534904e-16   4.57966998e-16\n",
      "    1.64126525e-15   4.59701721e-17   5.16947596e-16   1.11022302e-16\n",
      "    4.12864187e-16]\n",
      " [ -8.09517268e-16  -7.00828284e-16   1.00000000e+00  -3.96904731e-15\n",
      "    3.16968674e-14   2.66453526e-15  -5.55111512e-16   5.55111512e-16\n",
      "    2.28983499e-16   4.51028104e-17   2.77555756e-17  -7.63278329e-17\n",
      "   -2.39391840e-16]\n",
      " [  2.81016603e-16  -1.83782433e-16  -3.62123526e-16   1.00000000e+00\n",
      "   -2.27214081e-14  -9.02056208e-17   1.66533454e-16   3.67761377e-16\n",
      "   -2.22044605e-16   1.66533454e-16   8.32667268e-17   1.11022302e-16\n",
      "    1.11022302e-16]\n",
      " [  2.01399847e-16  -7.32920669e-17   4.33680869e-18  -7.07767178e-16\n",
      "    1.00000000e+00  -7.14706072e-16   4.85722573e-17   3.74700271e-16\n",
      "   -8.32667268e-17   3.33066907e-16  -1.11022302e-16  -2.77555756e-17\n",
      "    1.11022302e-16]\n",
      " [ -1.21938425e-16   5.74627151e-17  -2.46330734e-16   1.64104841e-15\n",
      "    4.14945855e-15   1.00000000e+00  -5.55111512e-17  -2.77555756e-17\n",
      "    3.33066907e-16  -9.71445147e-17   3.60822483e-16  -2.77555756e-16\n",
      "    1.66533454e-16]\n",
      " [ -2.00609609e-15   4.02455846e-16  -1.44328993e-15   2.81996648e-14\n",
      "    1.44884105e-14   3.77475828e-15   1.00000000e+00  -6.93889390e-17\n",
      "   -5.86336535e-16   1.37910516e-16  -7.28583860e-17   1.52655666e-16\n",
      "   -1.42247325e-16]\n",
      " [  1.55338119e-16  -4.59701721e-17   3.43475248e-16  -2.69922973e-15\n",
      "    5.64825964e-15   8.04911693e-16   5.55111512e-17   1.00000000e+00\n",
      "    1.38777878e-16   2.77555756e-17   1.76941795e-16   0.00000000e+00\n",
      "    0.00000000e+00]\n",
      " [  2.37939509e-16   1.92662726e-16   2.04697370e-16  -2.69229083e-15\n",
      "   -5.55111512e-15   1.05471187e-15   5.55111512e-17  -2.22044605e-16\n",
      "    1.00000000e+00  -2.77555756e-17  -1.66533454e-16   1.66533454e-16\n",
      "   -1.66533454e-16]\n",
      " [  1.66844423e-14   0.00000000e+00   2.69229083e-15  -5.12367926e-14\n",
      "   -2.50360496e-13  -5.06365783e-15  -3.69062420e-16  -5.25621213e-15\n",
      "   -1.17395243e-14   1.00000000e+00   3.38184342e-15  -1.60678762e-16\n",
      "   -1.05015822e-15]\n",
      " [  2.79075570e-16  -1.56125113e-17   8.39172482e-17  -2.09034179e-16\n",
      "   -7.84095011e-15   1.11022302e-15  -5.55111512e-17   1.89518540e-16\n",
      "    1.66533454e-16   6.93889390e-18   1.00000000e+00   3.46944695e-17\n",
      "   -5.55111512e-17]\n",
      " [  4.39342576e-15   8.32667268e-16   6.66133815e-16   1.25455202e-14\n",
      "    3.09413953e-13  -1.29887420e-15   5.81132364e-17   4.86763407e-15\n",
      "    5.37200492e-15  -2.23819986e-16  -1.58293517e-15   1.00000000e+00\n",
      "    2.02371757e-15]\n",
      " [ -8.81655989e-16  -1.60635394e-15   1.06858966e-15   3.16413562e-15\n",
      "   -1.11577414e-14   3.66373598e-15  -1.55431223e-15  -1.11022302e-16\n",
      "    4.54931232e-16  -4.16333634e-17  -4.16333634e-17   5.20417043e-18\n",
      "    1.00000000e+00]]\n",
      "[[  0.00000000e+00  -0.00000000e+00   0.00000000e+00   0.00000000e+00\n",
      "    0.00000000e+00   0.00000000e+00   2.29645894e-03  -0.00000000e+00\n",
      "   -0.00000000e+00   1.20358117e-02   0.00000000e+00  -3.46463139e-04\n",
      "    0.00000000e+00]\n",
      " [ -0.00000000e+00   9.79256164e-01  -0.00000000e+00  -0.00000000e+00\n",
      "   -0.00000000e+00   0.00000000e+00  -1.68240306e-03   0.00000000e+00\n",
      "   -0.00000000e+00  -5.84186325e-04  -0.00000000e+00   0.00000000e+00\n",
      "   -0.00000000e+00]\n",
      " [  0.00000000e+00  -2.18017276e-02   5.59869440e-01   0.00000000e+00\n",
      "    0.00000000e+00  -0.00000000e+00   2.23486535e-02  -0.00000000e+00\n",
      "   -0.00000000e+00   9.81439926e-03   0.00000000e+00  -3.38070209e-04\n",
      "    0.00000000e+00]\n",
      " [  0.00000000e+00  -0.00000000e+00   0.00000000e+00   0.00000000e+00\n",
      "    0.00000000e+00   0.00000000e+00   0.00000000e+00  -0.00000000e+00\n",
      "    0.00000000e+00  -0.00000000e+00  -0.00000000e+00   0.00000000e+00\n",
      "   -0.00000000e+00]\n",
      " [  0.00000000e+00  -0.00000000e+00   0.00000000e+00   0.00000000e+00\n",
      "    0.00000000e+00  -0.00000000e+00   0.00000000e+00  -0.00000000e+00\n",
      "    0.00000000e+00   2.82873980e-04  -0.00000000e+00  -0.00000000e+00\n",
      "    0.00000000e+00]\n",
      " [  0.00000000e+00   0.00000000e+00  -0.00000000e+00   0.00000000e+00\n",
      "   -0.00000000e+00   0.00000000e+00  -0.00000000e+00   0.00000000e+00\n",
      "    0.00000000e+00  -1.04096399e-03  -0.00000000e+00   0.00000000e+00\n",
      "   -0.00000000e+00]\n",
      " [  0.00000000e+00  -0.00000000e+00   0.00000000e+00   0.00000000e+00\n",
      "    0.00000000e+00  -0.00000000e+00   9.83864589e-01  -0.00000000e+00\n",
      "    0.00000000e+00   1.18827052e-03   0.00000000e+00  -0.00000000e+00\n",
      "    0.00000000e+00]\n",
      " [ -0.00000000e+00   1.22321120e-02  -0.00000000e+00  -0.00000000e+00\n",
      "   -0.00000000e+00   0.00000000e+00  -2.82927670e-02   0.00000000e+00\n",
      "    0.00000000e+00  -3.26504794e-03   0.00000000e+00   2.32499112e-04\n",
      "   -0.00000000e+00]\n",
      " [ -0.00000000e+00  -0.00000000e+00  -0.00000000e+00   0.00000000e+00\n",
      "    0.00000000e+00   0.00000000e+00   0.00000000e+00  -0.00000000e+00\n",
      "    0.00000000e+00  -2.37461328e-04  -0.00000000e+00   0.00000000e+00\n",
      "   -0.00000000e+00]\n",
      " [  0.00000000e+00  -0.00000000e+00   0.00000000e+00  -0.00000000e+00\n",
      "    0.00000000e+00  -0.00000000e+00   0.00000000e+00  -0.00000000e+00\n",
      "   -0.00000000e+00   9.99647311e-01   0.00000000e+00  -0.00000000e+00\n",
      "    0.00000000e+00]\n",
      " [ -0.00000000e+00  -1.54872616e-02   0.00000000e+00  -0.00000000e+00\n",
      "   -0.00000000e+00  -0.00000000e+00  -0.00000000e+00   0.00000000e+00\n",
      "   -0.00000000e+00   5.07465648e-03   0.00000000e+00   2.58469012e-05\n",
      "    0.00000000e+00]\n",
      " [ -0.00000000e+00   0.00000000e+00  -0.00000000e+00   0.00000000e+00\n",
      "   -0.00000000e+00   0.00000000e+00  -0.00000000e+00   0.00000000e+00\n",
      "    0.00000000e+00  -1.34971120e-04  -0.00000000e+00   9.98688533e-01\n",
      "   -0.00000000e+00]\n",
      " [  0.00000000e+00  -6.12091066e-04   0.00000000e+00  -0.00000000e+00\n",
      "    0.00000000e+00  -0.00000000e+00   2.29325157e-02  -0.00000000e+00\n",
      "   -0.00000000e+00   3.82310757e-03   0.00000000e+00  -2.46197678e-03\n",
      "    7.15574417e-01]]\n"
     ]
    }
   ],
   "source": [
    "attributes = housing.iloc[:, :-1]\n",
    "labels = housing.iloc[:, :-1]\n",
    "linear.fit(attributes, labels)\n",
    "print(linear.coef_)\n",
    "\n",
    "regularized.fit(attributes, labels)\n",
    "print(regularized.coef_)"
   ]
  },
  {
   "cell_type": "markdown",
   "metadata": {},
   "source": [
    "Logistic Regression with Regularization"
   ]
  },
  {
   "cell_type": "code",
   "execution_count": 101,
   "metadata": {
    "collapsed": false
   },
   "outputs": [
    {
     "data": {
      "text/html": [
       "<div>\n",
       "<table border=\"1\" class=\"dataframe\">\n",
       "  <thead>\n",
       "    <tr style=\"text-align: right;\">\n",
       "      <th></th>\n",
       "      <th>sepal lenght</th>\n",
       "      <th>sepal width</th>\n",
       "      <th>petal lenght</th>\n",
       "      <th>petal width</th>\n",
       "      <th>class</th>\n",
       "    </tr>\n",
       "  </thead>\n",
       "  <tbody>\n",
       "    <tr>\n",
       "      <th>0</th>\n",
       "      <td>5.1</td>\n",
       "      <td>3.5</td>\n",
       "      <td>1.4</td>\n",
       "      <td>0.2</td>\n",
       "      <td>Iris-setosa</td>\n",
       "    </tr>\n",
       "    <tr>\n",
       "      <th>1</th>\n",
       "      <td>4.9</td>\n",
       "      <td>3.0</td>\n",
       "      <td>1.4</td>\n",
       "      <td>0.2</td>\n",
       "      <td>Iris-setosa</td>\n",
       "    </tr>\n",
       "    <tr>\n",
       "      <th>2</th>\n",
       "      <td>4.7</td>\n",
       "      <td>3.2</td>\n",
       "      <td>1.3</td>\n",
       "      <td>0.2</td>\n",
       "      <td>Iris-setosa</td>\n",
       "    </tr>\n",
       "    <tr>\n",
       "      <th>3</th>\n",
       "      <td>4.6</td>\n",
       "      <td>3.1</td>\n",
       "      <td>1.5</td>\n",
       "      <td>0.2</td>\n",
       "      <td>Iris-setosa</td>\n",
       "    </tr>\n",
       "    <tr>\n",
       "      <th>4</th>\n",
       "      <td>5.0</td>\n",
       "      <td>3.6</td>\n",
       "      <td>1.4</td>\n",
       "      <td>0.2</td>\n",
       "      <td>Iris-setosa</td>\n",
       "    </tr>\n",
       "  </tbody>\n",
       "</table>\n",
       "</div>"
      ],
      "text/plain": [
       "   sepal lenght  sepal width  petal lenght  petal width        class\n",
       "0           5.1          3.5           1.4          0.2  Iris-setosa\n",
       "1           4.9          3.0           1.4          0.2  Iris-setosa\n",
       "2           4.7          3.2           1.3          0.2  Iris-setosa\n",
       "3           4.6          3.1           1.5          0.2  Iris-setosa\n",
       "4           5.0          3.6           1.4          0.2  Iris-setosa"
      ]
     },
     "execution_count": 101,
     "metadata": {},
     "output_type": "execute_result"
    }
   ],
   "source": [
    "iris = pd.read_csv(\"https://archive.ics.uci.edu/ml/machine-learning-databases/iris/iris.data\", header = None)\n",
    "iris.columns = [\"sepal lenght\", \"sepal width\", \"petal lenght\", \"petal width\", \"class\"]\n",
    "iris.head()"
   ]
  },
  {
   "cell_type": "code",
   "execution_count": 102,
   "metadata": {
    "collapsed": false
   },
   "outputs": [
    {
     "name": "stdout",
     "output_type": "stream",
     "text": [
      "[[  1.23447535   4.11821962  -6.5325072   -3.18715121]\n",
      " [ -0.24642288  -2.77165187   1.29541375  -2.69962978]\n",
      " [ -2.74173867  -5.43038356   7.64430752  14.01832537]]\n",
      "[[-0.04348189  0.01262464 -0.10492563 -0.04312338]\n",
      " [-0.04640808 -0.04148572 -0.00621299 -0.00336127]\n",
      " [-0.04749163 -0.04712036  0.03258157  0.02282612]]\n"
     ]
    }
   ],
   "source": [
    "from sklearn.linear_model import LogisticRegression\n",
    "model = LogisticRegression(C = 1000)\n",
    "model.fit(iris_attributes, iris_labels)\n",
    "\n",
    "model2 = LogisticRegression(C = 0.001)\n",
    "model2.fit(iris_attributes, iris_labels)\n",
    "\n",
    "print(model.coef_)\n",
    "print(model2.coef_)"
   ]
  },
  {
   "cell_type": "code",
   "execution_count": 87,
   "metadata": {
    "collapsed": false
   },
   "outputs": [
    {
     "data": {
      "text/plain": [
       "<matplotlib.legend.Legend at 0xaa9a160>"
      ]
     },
     "execution_count": 87,
     "metadata": {},
     "output_type": "execute_result"
    },
    {
     "data": {
      "image/png": "[encoded data removed]",
      "text/plain": [
       "<matplotlib.figure.Figure at 0xa9f4ef0>"
      ]
     },
     "metadata": {},
     "output_type": "display_data"
    }
   ],
   "source": [
    "attributes, labels = iris[[2, 3]], iris[[4]]\n",
    "weights, params = [], []\n",
    "for c in np.arange(-5, 5):\n",
    "    model = LogisticRegression(C = 10**c)\n",
    "    model.fit(attributes, labels.values.ravel())\n",
    "    weights.append(model.coef_[1]) # Display only the second class\n",
    "    params.append(10**c)\n",
    "weights = np.array(weights)\n",
    "plt.plot(params, weights[:, 0], label = \"Petal length\")\n",
    "plt.plot(params, weights[:, 1], label = \"Petal width\")\n",
    "plt.xlabel(\"C\")\n",
    "plt.ylabel(\"Weight coefficient\")\n",
    "plt.xscale(\"log\")\n",
    "plt.legend()"
   ]
  },
  {
   "cell_type": "markdown",
   "metadata": {},
   "source": [
    "Model Testing"
   ]
  },
  {
   "cell_type": "code",
   "execution_count": 69,
   "metadata": {
    "collapsed": false
   },
   "outputs": [],
   "source": [
    "from sklearn.model_selection import train_test_split\n",
    "attr_train, attr_test, l_train, l_test = train_test_split(attributes, labels, train_size = 0.7)"
   ]
  },
  {
   "cell_type": "code",
   "execution_count": 72,
   "metadata": {
    "collapsed": false
   },
   "outputs": [
    {
     "data": {
      "text/plain": [
       "LogisticRegression(C=1000, class_weight=None, dual=False, fit_intercept=True,\n",
       "          intercept_scaling=1, max_iter=100, multi_class='ovr', n_jobs=1,\n",
       "          penalty='l2', random_state=None, solver='liblinear', tol=0.0001,\n",
       "          verbose=0, warm_start=False)"
      ]
     },
     "execution_count": 72,
     "metadata": {},
     "output_type": "execute_result"
    }
   ],
   "source": [
    "model = LogisticRegression(C = 1000)\n",
    "model.fit(attr_train, l_train.values.ravel())"
   ]
  },
  {
   "cell_type": "code",
   "execution_count": 73,
   "metadata": {
    "collapsed": false
   },
   "outputs": [
    {
     "data": {
      "text/plain": [
       "0.9555555555555556"
      ]
     },
     "execution_count": 73,
     "metadata": {},
     "output_type": "execute_result"
    }
   ],
   "source": [
    "model.score(attr_test, l_test)"
   ]
  },
  {
   "cell_type": "code",
   "execution_count": 77,
   "metadata": {
    "collapsed": false
   },
   "outputs": [
    {
     "ename": "TypeError",
     "evalue": "unsupported operand type(s) for -: 'str' and 'str'",
     "output_type": "error",
     "traceback": [
      "\u001b[0;31m---------------------------------------------------------------------------\u001b[0m",
      "\u001b[0;31mTypeError\u001b[0m                                 Traceback (most recent call last)",
      "\u001b[0;32m<ipython-input-77-e1f750a35930>\u001b[0m in \u001b[0;36m<module>\u001b[0;34m()\u001b[0m\n\u001b[1;32m      1\u001b[0m \u001b[0mpredicted\u001b[0m \u001b[1;33m=\u001b[0m \u001b[0mmodel\u001b[0m\u001b[1;33m.\u001b[0m\u001b[0mpredict\u001b[0m\u001b[1;33m(\u001b[0m\u001b[0mattr_test\u001b[0m\u001b[1;33m)\u001b[0m\u001b[1;33m\u001b[0m\u001b[0m\n\u001b[0;32m----> 2\u001b[0;31m \u001b[0mr\u001b[0m \u001b[1;33m=\u001b[0m \u001b[0mpredicted\u001b[0m \u001b[1;33m-\u001b[0m \u001b[0ml_test\u001b[0m\u001b[1;33m\u001b[0m\u001b[0m\n\u001b[0m\u001b[1;32m      3\u001b[0m \u001b[1;31m# predicted - estimated\u001b[0m\u001b[1;33m\u001b[0m\u001b[1;33m\u001b[0m\u001b[0m\n",
      "\u001b[0;31mTypeError\u001b[0m: unsupported operand type(s) for -: 'str' and 'str'"
     ]
    }
   ],
   "source": [
    "predicted = model.predict(attr_test)\n",
    "r = predicted - l_test\n",
    "# predicted - estimated"
   ]
  },
  {
   "cell_type": "code",
   "execution_count": 88,
   "metadata": {
    "collapsed": false
   },
   "outputs": [
    {
     "data": {
      "text/plain": [
       "[<matplotlib.lines.Line2D at 0xa9faa90>]"
      ]
     },
     "execution_count": 88,
     "metadata": {},
     "output_type": "execute_result"
    },
    {
     "data": {
      "image/png": "[encoded data removed]",
      "text/plain": [
       "<matplotlib.figure.Figure at 0xa9fa828>"
      ]
     },
     "metadata": {},
     "output_type": "display_data"
    }
   ],
   "source": [
    "from sklearn.linear_model import LogisticRegression\n",
    "from sklearn.preprocessing import LabelEncoder\n",
    "from sklearn.metrics import roc_curve\n",
    "\n",
    "adult = pd.read_csv(\"https://archive.ics.uci.edu/ml/machine-learning-databases/adult/adult.data\", header = None)   \n",
    "model = LogisticRegression(C = 1000)\n",
    "attributes = pd.get_dummies(adult.iloc[:, :-1])\n",
    "labels = LabelEncoder().fit_transform(adult.iloc[:, -1])\n",
    "attr_train, attr_test, l_train, l_test = train_test_split(\n",
    "  attributes, labels, train_size = 0.8, stratify = labels)\n",
    "model.fit(attr_train, l_train)\n",
    "predicted = model.predict_proba(attr_test)[:, 1]\n",
    "fpr, tpr, _ = roc_curve(l_test, predicted)\n",
    "plt.plot(fpr, tpr)\n",
    "plt.plot([0, 1], [0, 1], linestyle = \"--\")"
   ]
  },
  {
   "cell_type": "code",
   "execution_count": 89,
   "metadata": {
    "collapsed": false
   },
   "outputs": [
    {
     "data": {
      "text/plain": [
       "0.80085981882389068"
      ]
     },
     "execution_count": 89,
     "metadata": {},
     "output_type": "execute_result"
    }
   ],
   "source": [
    "model.score(attr_test, l_test)"
   ]
  },
  {
   "cell_type": "code",
   "execution_count": 92,
   "metadata": {
    "collapsed": false
   },
   "outputs": [
    {
     "data": {
      "text/plain": [
       "array([ 0.79671426,  0.79407248,  0.80006143,  0.79576167,  0.79960074])"
      ]
     },
     "execution_count": 92,
     "metadata": {},
     "output_type": "execute_result"
    }
   ],
   "source": [
    "from sklearn.model_selection import cross_val_score, StratifiedKFold\n",
    "\n",
    "kfold = StratifiedKFold(n_splits = 5)\n",
    "scores = cross_val_score(model, attributes, labels, cv = kfold)\n",
    "scores"
   ]
  },
  {
   "cell_type": "code",
   "execution_count": null,
   "metadata": {
    "collapsed": true
   },
   "outputs": [],
   "source": [
    "# the values from below are close to each other, so the model is good (not under or overfitting)"
   ]
  },
  {
   "cell_type": "code",
   "execution_count": 93,
   "metadata": {
    "collapsed": false
   },
   "outputs": [
    {
     "name": "stdout",
     "output_type": "stream",
     "text": [
      "{'C': 1, 'penalty': 'l1'}\n"
     ]
    }
   ],
   "source": [
    "# Hyperparameter Tuning\n",
    "\n",
    "from sklearn.model_selection import GridSearchCV\n",
    "\n",
    "tuned_params = [{\"C\": [0.001, 0.01, 0.1, 1, 10, 100, 1000], \u000b",
    "  \"penalty\": [\"l1\", \"l2\"]}]\n",
    "grid = GridSearchCV(LogisticRegression(C = 1), tuned_params)\n",
    "grid.fit(attr_train, l_train)\n",
    "print(grid.best_params_) # Estimator: grid.best_estimator_\n"
   ]
  },
  {
   "cell_type": "markdown",
   "metadata": {},
   "source": [
    "PCA"
   ]
  },
  {
   "cell_type": "code",
   "execution_count": 95,
   "metadata": {
    "collapsed": false
   },
   "outputs": [
    {
     "name": "stdout",
     "output_type": "stream",
     "text": [
      "[ 4.19667516  0.24062861  0.07800042  0.02352514]\n"
     ]
    },
    {
     "data": {
      "text/plain": [
       "<Container object of 4 artists>"
      ]
     },
     "execution_count": 95,
     "metadata": {},
     "output_type": "execute_result"
    },
    {
     "data": {
      "image/png": "[encoded data removed]",
      "text/plain": [
       "<matplotlib.figure.Figure at 0xd9df908>"
      ]
     },
     "metadata": {},
     "output_type": "display_data"
    }
   ],
   "source": [
    "from sklearn.decomposition import PCA\n",
    "\n",
    "pca = PCA()\n",
    "pca.fit(iris.iloc[:, :-1])\n",
    "print(pca.explained_variance_)\n",
    "plt.bar(list(range(len(pca.components_))), pca.explained_variance_ratio_)"
   ]
  },
  {
   "cell_type": "markdown",
   "metadata": {},
   "source": [
    "Isomap"
   ]
  },
  {
   "cell_type": "code",
   "execution_count": 98,
   "metadata": {
    "collapsed": false
   },
   "outputs": [
    {
     "data": {
      "image/png": "[encoded data removed]",
      "text/plain": [
       "<matplotlib.figure.Figure at 0xbd838d0>"
      ]
     },
     "metadata": {},
     "output_type": "display_data"
    },
    {
     "data": {
      "image/png": "[encoded data removed]",
      "text/plain": [
       "<matplotlib.figure.Figure at 0xd5ba668>"
      ]
     },
     "metadata": {},
     "output_type": "display_data"
    },
    {
     "data": {
      "image/png": "[encoded data removed]",
      "text/plain": [
       "<matplotlib.figure.Figure at 0xdcf04e0>"
      ]
     },
     "metadata": {},
     "output_type": "display_data"
    }
   ],
   "source": [
    "from sklearn.manifold import Isomap\n",
    "\n",
    "iris = pd.read_csv(\"https://archive.ics.uci.edu/ml/machine-learning-databases/iris/iris.data\", header = None)\n",
    "iris_attr = iris.iloc[:, :-1]\n",
    "\n",
    "isomap = Isomap(n_neighbors = 3, n_components = 2)\n",
    "data = isomap.fit_transform(iris_attr)\n",
    "plt.scatter(data[:, 0], data[:, 1])\n",
    "plt.show()\n",
    "\n",
    "isomap = Isomap(n_neighbors = 5, n_components = 2)\n",
    "data = isomap.fit_transform(iris_attr)\n",
    "plt.scatter(data[:, 0], data[:, 1])\n",
    "plt.show()\n",
    "\n",
    "isomap = Isomap(n_neighbors = 10, n_components = 2)\n",
    "data = isomap.fit_transform(iris_attr)\n",
    "plt.scatter(data[:, 0], data[:, 1])\n",
    "plt.show()"
   ]
  },
  {
   "cell_type": "code",
   "execution_count": null,
   "metadata": {
    "collapsed": true
   },
   "outputs": [],
   "source": []
  }
 ],
 "metadata": {
  "kernelspec": {
   "display_name": "Python 3",
   "language": "python",
   "name": "python3"
  },
  "language_info": {
   "codemirror_mode": {
    "name": "ipython",
    "version": 3
   },
   "file_extension": ".py",
   "mimetype": "text/x-python",
   "name": "python",
   "nbconvert_exporter": "python",
   "pygments_lexer": "ipython3",
   "version": "3.6.0"
  }
 },
 "nbformat": 4,
 "nbformat_minor": 2
}
